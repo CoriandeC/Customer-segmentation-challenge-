{
 "cells": [
  {
   "cell_type": "markdown",
   "id": "2b084a63",
   "metadata": {},
   "source": [
    "# Customer segmentation challenge"
   ]
  },
  {
   "cell_type": "markdown",
   "id": "dc019e01",
   "metadata": {},
   "source": [
    "## Introduction\n",
    "\n",
    "\"What are the most important factors for predicting whether a customer has converted or not?\"\n",
    "\n",
    "Based on information from several customers, doing some statistics and visualizing the data, we will answer this problem. The first step is to process the data, then we will visualize it and make some assumptions. After that, we will confirm our hypotheses using a correlation matrix. And finally, we will show that it is possible to predict whether a customer has converted or not with a logistic regression model."
   ]
  },
  {
   "cell_type": "markdown",
   "id": "2d747083",
   "metadata": {},
   "source": [
    "## Packages"
   ]
  },
  {
   "cell_type": "code",
   "execution_count": 1,
   "id": "d6e66f1e",
   "metadata": {},
   "outputs": [],
   "source": [
    "import pandas as pd\n",
    "import matplotlib.pyplot as plt\n",
    "import numpy as np\n",
    "import prince\n",
    "import matplotlib.pyplot as plt\n",
    "from collections import Counter\n",
    "from sklearn.linear_model import LogisticRegression\n",
    "from sklearn.model_selection import train_test_split\n",
    "from sklearn.preprocessing import normalize\n",
    "from sklearn.metrics import confusion_matrix, ConfusionMatrixDisplay"
   ]
  },
  {
   "cell_type": "markdown",
   "id": "c2c88aa0",
   "metadata": {},
   "source": [
    "## Reading data\n",
    "\n",
    "First, we load the data from the csv file and we drop the lines with empty values. "
   ]
  },
  {
   "cell_type": "code",
   "execution_count": 2,
   "id": "db176b93",
   "metadata": {},
   "outputs": [],
   "source": [
    "data = pd.read_csv('customer_data_sample.csv')\n",
    "data = data.dropna()"
   ]
  },
  {
   "cell_type": "markdown",
   "id": "5c080c50",
   "metadata": {},
   "source": [
    "Here is a description of the dataset:\n",
    "\n",
    "| field | explanation |\n",
    "|---|---|\n",
    "| customer_id | Numeric id for a customer\n",
    "| converted | Whether a customer converted to the product (1) or not (0)\n",
    "| customer_segment | Numeric id of a customer segment the customer belongs to\n",
    "| gender | Customer gender\n",
    "| age | Customer age\n",
    "| related_customers | Numeric - number of people who are related to the customer\n",
    "| family_size | Numeric - size of family members\n",
    "| initial_fee_level | Initial services fee level the customer is enrolled to\n",
    "| credit_account_id | Identifier (hash) for the customer credit account. If customer has none, they are shown as \"9b2d5b4678781e53038e91ea5324530a03f27dc1d0e5f6c9bc9d493a23be9de0\"\n",
    "| branch | Which branch the customer mainly is associated with |\n",
    "\n",
    "And a Data overview"
   ]
  },
  {
   "cell_type": "code",
   "execution_count": 3,
   "id": "ba916c70",
   "metadata": {
    "scrolled": true
   },
   "outputs": [
    {
     "data": {
      "text/html": [
       "<div>\n",
       "<style scoped>\n",
       "    .dataframe tbody tr th:only-of-type {\n",
       "        vertical-align: middle;\n",
       "    }\n",
       "\n",
       "    .dataframe tbody tr th {\n",
       "        vertical-align: top;\n",
       "    }\n",
       "\n",
       "    .dataframe thead th {\n",
       "        text-align: right;\n",
       "    }\n",
       "</style>\n",
       "<table border=\"1\" class=\"dataframe\">\n",
       "  <thead>\n",
       "    <tr style=\"text-align: right;\">\n",
       "      <th></th>\n",
       "      <th>customer_id</th>\n",
       "      <th>converted</th>\n",
       "      <th>customer_segment</th>\n",
       "      <th>gender</th>\n",
       "      <th>age</th>\n",
       "      <th>related_customers</th>\n",
       "      <th>family_size</th>\n",
       "      <th>initial_fee_level</th>\n",
       "      <th>credit_account_id</th>\n",
       "      <th>branch</th>\n",
       "    </tr>\n",
       "  </thead>\n",
       "  <tbody>\n",
       "    <tr>\n",
       "      <th>0</th>\n",
       "      <td>15001</td>\n",
       "      <td>0</td>\n",
       "      <td>13</td>\n",
       "      <td>male</td>\n",
       "      <td>22.0</td>\n",
       "      <td>1</td>\n",
       "      <td>0</td>\n",
       "      <td>14.5000</td>\n",
       "      <td>9b2d5b4678781e53038e91ea5324530a03f27dc1d0e5f6...</td>\n",
       "      <td>Helsinki</td>\n",
       "    </tr>\n",
       "    <tr>\n",
       "      <th>1</th>\n",
       "      <td>15002</td>\n",
       "      <td>1</td>\n",
       "      <td>11</td>\n",
       "      <td>female</td>\n",
       "      <td>38.0</td>\n",
       "      <td>1</td>\n",
       "      <td>0</td>\n",
       "      <td>142.5666</td>\n",
       "      <td>afa2dc179e46e8456ffff9016f91396e9c6adf1fe20d17...</td>\n",
       "      <td>Tampere</td>\n",
       "    </tr>\n",
       "    <tr>\n",
       "      <th>2</th>\n",
       "      <td>15003</td>\n",
       "      <td>1</td>\n",
       "      <td>13</td>\n",
       "      <td>female</td>\n",
       "      <td>26.0</td>\n",
       "      <td>0</td>\n",
       "      <td>0</td>\n",
       "      <td>15.8500</td>\n",
       "      <td>9b2d5b4678781e53038e91ea5324530a03f27dc1d0e5f6...</td>\n",
       "      <td>Helsinki</td>\n",
       "    </tr>\n",
       "    <tr>\n",
       "      <th>3</th>\n",
       "      <td>15004</td>\n",
       "      <td>1</td>\n",
       "      <td>11</td>\n",
       "      <td>female</td>\n",
       "      <td>35.0</td>\n",
       "      <td>1</td>\n",
       "      <td>0</td>\n",
       "      <td>106.2000</td>\n",
       "      <td>abefcf257b5d2ff2816a68ec7c84ec8c11e0e0dc4f3425...</td>\n",
       "      <td>Helsinki</td>\n",
       "    </tr>\n",
       "    <tr>\n",
       "      <th>4</th>\n",
       "      <td>15005</td>\n",
       "      <td>0</td>\n",
       "      <td>13</td>\n",
       "      <td>male</td>\n",
       "      <td>35.0</td>\n",
       "      <td>0</td>\n",
       "      <td>0</td>\n",
       "      <td>16.1000</td>\n",
       "      <td>9b2d5b4678781e53038e91ea5324530a03f27dc1d0e5f6...</td>\n",
       "      <td>Helsinki</td>\n",
       "    </tr>\n",
       "  </tbody>\n",
       "</table>\n",
       "</div>"
      ],
      "text/plain": [
       "   customer_id  converted  customer_segment  gender   age  related_customers  \\\n",
       "0        15001          0                13    male  22.0                  1   \n",
       "1        15002          1                11  female  38.0                  1   \n",
       "2        15003          1                13  female  26.0                  0   \n",
       "3        15004          1                11  female  35.0                  1   \n",
       "4        15005          0                13    male  35.0                  0   \n",
       "\n",
       "   family_size  initial_fee_level  \\\n",
       "0            0            14.5000   \n",
       "1            0           142.5666   \n",
       "2            0            15.8500   \n",
       "3            0           106.2000   \n",
       "4            0            16.1000   \n",
       "\n",
       "                                   credit_account_id    branch  \n",
       "0  9b2d5b4678781e53038e91ea5324530a03f27dc1d0e5f6...  Helsinki  \n",
       "1  afa2dc179e46e8456ffff9016f91396e9c6adf1fe20d17...   Tampere  \n",
       "2  9b2d5b4678781e53038e91ea5324530a03f27dc1d0e5f6...  Helsinki  \n",
       "3  abefcf257b5d2ff2816a68ec7c84ec8c11e0e0dc4f3425...  Helsinki  \n",
       "4  9b2d5b4678781e53038e91ea5324530a03f27dc1d0e5f6...  Helsinki  "
      ]
     },
     "execution_count": 3,
     "metadata": {},
     "output_type": "execute_result"
    }
   ],
   "source": [
    "data.head()"
   ]
  },
  {
   "cell_type": "markdown",
   "id": "25488b0e",
   "metadata": {},
   "source": [
    "We know that clients without a credit account have a certain credit account id, so we can add a column with the information if the costumer has a credit account or not. The value is 1 if he has a credit account and 0 if not."
   ]
  },
  {
   "cell_type": "code",
   "execution_count": 4,
   "id": "f907f115",
   "metadata": {},
   "outputs": [],
   "source": [
    "#id of poeple not having a credit account is \"9b2d5b4678781e53038e91ea5324530a03f27dc1d0e5f6c9bc9d493a23be9de0\"\n",
    "idx = data[\"credit_account_id\"] != \"9b2d5b4678781e53038e91ea5324530a03f27dc1d0e5f6c9bc9d493a23be9de0\"\n",
    "data['has_credit_account'] = idx.astype(int)\n",
    "#data.pop(\"credit_account_id\")\n",
    "\n",
    "#spliting the data between converted and not converted customers\n",
    "conv_cust = data[data['converted']==1]\n",
    "not_conv_cust = data[data['converted']==0]"
   ]
  },
  {
   "cell_type": "markdown",
   "id": "7ea94563",
   "metadata": {},
   "source": [
    "## Data visualization\n",
    "\n",
    "Now we will visualize some data statistics to better understand the repartition between converted and not converted customers. \n",
    "\n"
   ]
  },
  {
   "cell_type": "code",
   "execution_count": 5,
   "id": "120e264a",
   "metadata": {},
   "outputs": [
    {
     "data": {
      "image/png": "[encoded data removed]",
      "text/plain": [
       "<Figure size 432x288 with 1 Axes>"
      ]
     },
     "metadata": {},
     "output_type": "display_data"
    }
   ],
   "source": [
    "labels = ['converted customers', 'not converted customers']\n",
    "sizes = [conv_cust.shape[0]*100/data.shape[0], not_conv_cust.shape[0]*100/data.shape[0]]\n",
    "colors = ['lightskyblue', 'lightcoral']\n",
    "\n",
    "plt.pie(sizes, labels=labels, colors=colors, \n",
    "        autopct='%1.1f%%', shadow=True, startangle=90)\n",
    "\n",
    "plt.axis('equal')\n",
    "plt.title(\"customers' ditribution\")\n",
    "plt.show()"
   ]
  },
  {
   "cell_type": "markdown",
   "id": "8b9b00d3",
   "metadata": {},
   "source": [
    "Some of the information is quantitative while others are qualitative (customer segment, gender, whether they have a credit account, branch, whether they are converted or not, and the credit account ID).\n",
    "\n",
    "Let's visualize what are the customers' caracteristics according to whether they are converted or not.\n",
    "\n",
    "For each caracteristic, we will plot an histogram to see the customers' repartition. What is represented in ordinate is the proportion of converted (or not converted) customers by value/class. Because the number of converted customers is lower than the non-converted, we work with the proportion of customer type  in order to compare the values for converted and non-converted ( = number of converted customers having the caracteristic outcome (*or not converted*) X100/total number of converted customers (*or not converted*)).\n",
    "\n",
    "For the quantitative values, we can represent more statistics with the box plot. We can visualize the quartile and outliers."
   ]
  },
  {
   "cell_type": "code",
   "execution_count": 6,
   "id": "f8291422",
   "metadata": {},
   "outputs": [
    {
     "data": {
      "image/png": "[encoded data removed]",
      "text/plain": [
       "<Figure size 432x288 with 1 Axes>"
      ]
     },
     "metadata": {
      "needs_background": "light"
     },
     "output_type": "display_data"
    },
    {
     "data": {
      "image/png": "[encoded data removed]",
      "text/plain": [
       "<Figure size 432x288 with 1 Axes>"
      ]
     },
     "metadata": {
      "needs_background": "light"
     },
     "output_type": "display_data"
    },
    {
     "data": {
      "image/png": "[encoded data removed]",
      "text/plain": [
       "<Figure size 432x288 with 1 Axes>"
      ]
     },
     "metadata": {
      "needs_background": "light"
     },
     "output_type": "display_data"
    },
    {
     "data": {
      "image/png": "[encoded data removed]",
      "text/plain": [
       "<Figure size 432x288 with 1 Axes>"
      ]
     },
     "metadata": {
      "needs_background": "light"
     },
     "output_type": "display_data"
    },
    {
     "data": {
      "image/png": "[encoded data removed]",
      "text/plain": [
       "<Figure size 432x288 with 1 Axes>"
      ]
     },
     "metadata": {
      "needs_background": "light"
     },
     "output_type": "display_data"
    },
    {
     "data": {
      "image/png": "[encoded data removed]",
      "text/plain": [
       "<Figure size 432x288 with 1 Axes>"
      ]
     },
     "metadata": {
      "needs_background": "light"
     },
     "output_type": "display_data"
    },
    {
     "data": {
      "image/png": "[encoded data removed]",
      "text/plain": [
       "<Figure size 432x288 with 1 Axes>"
      ]
     },
     "metadata": {
      "needs_background": "light"
     },
     "output_type": "display_data"
    },
    {
     "data": {
      "image/png": "[encoded data removed]",
      "text/plain": [
       "<Figure size 432x288 with 1 Axes>"
      ]
     },
     "metadata": {
      "needs_background": "light"
     },
     "output_type": "display_data"
    },
    {
     "data": {
      "image/png": "[encoded data removed]",
      "text/plain": [
       "<Figure size 432x288 with 1 Axes>"
      ]
     },
     "metadata": {
      "needs_background": "light"
     },
     "output_type": "display_data"
    },
    {
     "data": {
      "image/png": "[encoded data removed]",
      "text/plain": [
       "<Figure size 432x288 with 1 Axes>"
      ]
     },
     "metadata": {
      "needs_background": "light"
     },
     "output_type": "display_data"
    },
    {
     "data": {
      "image/png": "[encoded data removed]",
      "text/plain": [
       "<Figure size 432x288 with 1 Axes>"
      ]
     },
     "metadata": {
      "needs_background": "light"
     },
     "output_type": "display_data"
    },
    {
     "data": {
      "image/png": "[encoded data removed]",
      "text/plain": [
       "<Figure size 432x288 with 1 Axes>"
      ]
     },
     "metadata": {
      "needs_background": "light"
     },
     "output_type": "display_data"
    }
   ],
   "source": [
    "quali_col = ['customer_segment', 'has_credit_account', 'gender', 'branch', 'converted']\n",
    "\n",
    "w1 = np.ones(conv_cust.shape[0])/conv_cust.shape[0]*100\n",
    "w2 = np.ones(not_conv_cust.shape[0])/not_conv_cust.shape[0]*100\n",
    "w = [w1, w2]\n",
    "for index in data.columns : \n",
    "    \n",
    "\n",
    "    if index not in ['branch', 'customer_id', 'converted', 'credit_account_id']:\n",
    "        plt.hist([conv_cust[index], not_conv_cust[index]], label = ['converted', 'not converted'], weights = w)\n",
    "        plt.legend(loc='upper right')\n",
    "        plt.title('Histogram {}'.format(index))\n",
    "        plt.ylabel('(%)')\n",
    "        plt.show()\n",
    "        \n",
    "        if index not in quali_col :      \n",
    "            plt.show()\n",
    "            plt.boxplot([conv_cust[index], not_conv_cust[index]])\n",
    "            plt.title('boxplot {}'.format(index))\n",
    "            plt.legend(labels = ['1: converted', '2: not converted'],loc='upper right')\n",
    "            plt.show()\n",
    "            \n",
    "\n",
    "\n",
    "c_branches = Counter(conv_cust['branch'])\n",
    "nc_branches = Counter(not_conv_cust['branch'])\n",
    "\n",
    "df1 = pd.DataFrame.from_dict(c_branches, orient='index')/conv_cust.shape[0]*100\n",
    "df1['nc']=(pd.DataFrame.from_dict(nc_branches, orient='index'))/not_conv_cust.shape[0]*100\n",
    "df1.head()\n",
    "\n",
    "fig = plt.figure()\n",
    "ax = fig.add_axes([0,0,1,1])\n",
    "x = np.array([1,2,3])\n",
    "y1 = df1['nc']\n",
    "y2 = df1[0]\n",
    "ax.bar(x-0.2,y1, width = 0.4)\n",
    "ax.bar(x+0.2,y2, width = 0.4)\n",
    "plt.xlabel('{}'.format(list(df1.index)))\n",
    "plt.ylabel('(%)')\n",
    "plt.legend(labels = ['converted', 'not converted'], loc='upper right')\n",
    "plt.title('Histogram branch')\n",
    "plt.show()"
   ]
  },
  {
   "cell_type": "markdown",
   "id": "a9d04c46",
   "metadata": {},
   "source": [
    "### Some analysis:\n",
    "\n",
    "- **Customers' segement**: In one hand, 42% of the converted customers are in segment 11, compared to only 15% of non-converted customers. In another hand, more than 60% of the non converted customers are in segment 13, compared to only 30% of the converted customers. We can imagine that the segment is an important factor while predicting the client's conversion: converted clients are mainly from segment 11 and non-converted from segment 13. But it is not the only factor because converted and non-converted customers are not from only one category.\n",
    "\n",
    "\n",
    "- **Gender**: A 68% of the converted customers are females and more than 80% are males. We can say that women are more likely to convert than men.\n",
    "\n",
    "\n",
    "- **Age**: Even if a big proportion of converted clients are less than 10, we can see, threw the histogram and the boxplot, that the age distribution seems to be similar. Age is probably not a significant factor for the customers conversion.\n",
    "\n",
    "\n",
    "- **Related customers**: For the same argues than before, the distribution for converted and non-converted is is substantially similar. The number of related customers is probably not an important factor.\n",
    "\n",
    "\n",
    "- **Family size**: For both (converted and not), the main proportion of customers has no family (65% and 80%). However, a bigger proportion of converted poeple than not converted has 1 (20% vs 10%) or 2 members (8% vs 12%). It is difficult to conclude only from those graphs.\n",
    "\n",
    "\n",
    "- **Has credit acount**: The major part of the customers don't have a credit account. But if we look at poeple having a credit account, we can see that in proportion, there are more converted than non converted customers. It should be a discriminant factor of the conversion.\n",
    "\n",
    "\n",
    "- **Initial Fee Level**: The boxplot shows that the initial fee level is higher overall for converted customers. It seems to be significant for the customers conversion.\n",
    "\n",
    "\n",
    "- **Branch**: The histogram shows that compared to the proportion of converted customers (12%), a bigger part of non-converted (30%) are associated to Tampere branch. In parallel, a bigger proportion of non-converted than converted are associated to Helsinki (82% vs 70%). Few customers are associated to Turku, so it is difficult to conclued about this branch.\n",
    "\n",
    "\n",
    "### Conclusion of this analysis:\n",
    "\n",
    "We can say that the segment, gender, credit account, initial fee level and branch seem to be important factors to predict a customer conversion. It is difficult to know if the family size is a factor or not. \n",
    "At this point, we can't say if one factor is more important than the others."
   ]
  },
  {
   "cell_type": "markdown",
   "id": "bc80c746",
   "metadata": {},
   "source": [
    "## Data correlation\n",
    "\n",
    "Visualy, we made some assumptions about the correlation between the client's caracteristics and the its conversion. Now, we would like to confirm it threw statistics. \n",
    "\n",
    "To do this, we will calculate the correlation matrix. This is a table showing the connection coefficients between the factors. The value of the correlation between two factors varies between -1 and 1. It is 0 if they are not correlated, 1 if they are strongly correlated and -1 if they are inversely correlated.\n",
    "\n",
    "### Data processing\n",
    "\n",
    "In order to compute the correlation matrix, we need to transform the data a bit. Some of it is qualitative, so we have to convert it into binary information to have only quantitative and binary information. \n",
    "\n",
    "*Remark*: I decided to keep one column by class (=different outcome) but I could have one less by category, but for the correlation (following part), it was interesting to keep all the outcomes."
   ]
  },
  {
   "cell_type": "code",
   "execution_count": 7,
   "id": "635fa25c",
   "metadata": {},
   "outputs": [
    {
     "data": {
      "text/html": [
       "<div>\n",
       "<style scoped>\n",
       "    .dataframe tbody tr th:only-of-type {\n",
       "        vertical-align: middle;\n",
       "    }\n",
       "\n",
       "    .dataframe tbody tr th {\n",
       "        vertical-align: top;\n",
       "    }\n",
       "\n",
       "    .dataframe thead th {\n",
       "        text-align: right;\n",
       "    }\n",
       "</style>\n",
       "<table border=\"1\" class=\"dataframe\">\n",
       "  <thead>\n",
       "    <tr style=\"text-align: right;\">\n",
       "      <th></th>\n",
       "      <th>customer_id</th>\n",
       "      <th>converted</th>\n",
       "      <th>customer_segment</th>\n",
       "      <th>gender</th>\n",
       "      <th>age</th>\n",
       "      <th>related_customers</th>\n",
       "      <th>family_size</th>\n",
       "      <th>initial_fee_level</th>\n",
       "      <th>credit_account_id</th>\n",
       "      <th>branch</th>\n",
       "      <th>has_credit_account</th>\n",
       "      <th>customer_segment_is_13</th>\n",
       "      <th>customer_segment_is_11</th>\n",
       "      <th>customer_segment_is_12</th>\n",
       "      <th>gender_is_male</th>\n",
       "      <th>gender_is_female</th>\n",
       "      <th>branch_is_Helsinki</th>\n",
       "      <th>branch_is_Tampere</th>\n",
       "      <th>branch_is_Turku</th>\n",
       "    </tr>\n",
       "  </thead>\n",
       "  <tbody>\n",
       "    <tr>\n",
       "      <th>0</th>\n",
       "      <td>15001</td>\n",
       "      <td>0</td>\n",
       "      <td>13</td>\n",
       "      <td>male</td>\n",
       "      <td>22.0</td>\n",
       "      <td>1</td>\n",
       "      <td>0</td>\n",
       "      <td>14.5000</td>\n",
       "      <td>9b2d5b4678781e53038e91ea5324530a03f27dc1d0e5f6...</td>\n",
       "      <td>Helsinki</td>\n",
       "      <td>0</td>\n",
       "      <td>1</td>\n",
       "      <td>0</td>\n",
       "      <td>0</td>\n",
       "      <td>1</td>\n",
       "      <td>0</td>\n",
       "      <td>1</td>\n",
       "      <td>0</td>\n",
       "      <td>0</td>\n",
       "    </tr>\n",
       "    <tr>\n",
       "      <th>1</th>\n",
       "      <td>15002</td>\n",
       "      <td>1</td>\n",
       "      <td>11</td>\n",
       "      <td>female</td>\n",
       "      <td>38.0</td>\n",
       "      <td>1</td>\n",
       "      <td>0</td>\n",
       "      <td>142.5666</td>\n",
       "      <td>afa2dc179e46e8456ffff9016f91396e9c6adf1fe20d17...</td>\n",
       "      <td>Tampere</td>\n",
       "      <td>1</td>\n",
       "      <td>0</td>\n",
       "      <td>1</td>\n",
       "      <td>0</td>\n",
       "      <td>0</td>\n",
       "      <td>1</td>\n",
       "      <td>0</td>\n",
       "      <td>1</td>\n",
       "      <td>0</td>\n",
       "    </tr>\n",
       "    <tr>\n",
       "      <th>2</th>\n",
       "      <td>15003</td>\n",
       "      <td>1</td>\n",
       "      <td>13</td>\n",
       "      <td>female</td>\n",
       "      <td>26.0</td>\n",
       "      <td>0</td>\n",
       "      <td>0</td>\n",
       "      <td>15.8500</td>\n",
       "      <td>9b2d5b4678781e53038e91ea5324530a03f27dc1d0e5f6...</td>\n",
       "      <td>Helsinki</td>\n",
       "      <td>0</td>\n",
       "      <td>1</td>\n",
       "      <td>0</td>\n",
       "      <td>0</td>\n",
       "      <td>0</td>\n",
       "      <td>1</td>\n",
       "      <td>1</td>\n",
       "      <td>0</td>\n",
       "      <td>0</td>\n",
       "    </tr>\n",
       "    <tr>\n",
       "      <th>3</th>\n",
       "      <td>15004</td>\n",
       "      <td>1</td>\n",
       "      <td>11</td>\n",
       "      <td>female</td>\n",
       "      <td>35.0</td>\n",
       "      <td>1</td>\n",
       "      <td>0</td>\n",
       "      <td>106.2000</td>\n",
       "      <td>abefcf257b5d2ff2816a68ec7c84ec8c11e0e0dc4f3425...</td>\n",
       "      <td>Helsinki</td>\n",
       "      <td>1</td>\n",
       "      <td>0</td>\n",
       "      <td>1</td>\n",
       "      <td>0</td>\n",
       "      <td>0</td>\n",
       "      <td>1</td>\n",
       "      <td>1</td>\n",
       "      <td>0</td>\n",
       "      <td>0</td>\n",
       "    </tr>\n",
       "    <tr>\n",
       "      <th>4</th>\n",
       "      <td>15005</td>\n",
       "      <td>0</td>\n",
       "      <td>13</td>\n",
       "      <td>male</td>\n",
       "      <td>35.0</td>\n",
       "      <td>0</td>\n",
       "      <td>0</td>\n",
       "      <td>16.1000</td>\n",
       "      <td>9b2d5b4678781e53038e91ea5324530a03f27dc1d0e5f6...</td>\n",
       "      <td>Helsinki</td>\n",
       "      <td>0</td>\n",
       "      <td>1</td>\n",
       "      <td>0</td>\n",
       "      <td>0</td>\n",
       "      <td>1</td>\n",
       "      <td>0</td>\n",
       "      <td>1</td>\n",
       "      <td>0</td>\n",
       "      <td>0</td>\n",
       "    </tr>\n",
       "  </tbody>\n",
       "</table>\n",
       "</div>"
      ],
      "text/plain": [
       "   customer_id  converted  customer_segment  gender   age  related_customers  \\\n",
       "0        15001          0                13    male  22.0                  1   \n",
       "1        15002          1                11  female  38.0                  1   \n",
       "2        15003          1                13  female  26.0                  0   \n",
       "3        15004          1                11  female  35.0                  1   \n",
       "4        15005          0                13    male  35.0                  0   \n",
       "\n",
       "   family_size  initial_fee_level  \\\n",
       "0            0            14.5000   \n",
       "1            0           142.5666   \n",
       "2            0            15.8500   \n",
       "3            0           106.2000   \n",
       "4            0            16.1000   \n",
       "\n",
       "                                   credit_account_id    branch  \\\n",
       "0  9b2d5b4678781e53038e91ea5324530a03f27dc1d0e5f6...  Helsinki   \n",
       "1  afa2dc179e46e8456ffff9016f91396e9c6adf1fe20d17...   Tampere   \n",
       "2  9b2d5b4678781e53038e91ea5324530a03f27dc1d0e5f6...  Helsinki   \n",
       "3  abefcf257b5d2ff2816a68ec7c84ec8c11e0e0dc4f3425...  Helsinki   \n",
       "4  9b2d5b4678781e53038e91ea5324530a03f27dc1d0e5f6...  Helsinki   \n",
       "\n",
       "   has_credit_account  customer_segment_is_13  customer_segment_is_11  \\\n",
       "0                   0                       1                       0   \n",
       "1                   1                       0                       1   \n",
       "2                   0                       1                       0   \n",
       "3                   1                       0                       1   \n",
       "4                   0                       1                       0   \n",
       "\n",
       "   customer_segment_is_12  gender_is_male  gender_is_female  \\\n",
       "0                       0               1                 0   \n",
       "1                       0               0                 1   \n",
       "2                       0               0                 1   \n",
       "3                       0               0                 1   \n",
       "4                       0               1                 0   \n",
       "\n",
       "   branch_is_Helsinki  branch_is_Tampere  branch_is_Turku  \n",
       "0                   1                  0                0  \n",
       "1                   0                  1                0  \n",
       "2                   1                  0                0  \n",
       "3                   1                  0                0  \n",
       "4                   1                  0                0  "
      ]
     },
     "execution_count": 7,
     "metadata": {},
     "output_type": "execute_result"
    }
   ],
   "source": [
    "# qualitative to translate into binary information\n",
    "for qualitative in ['customer_segment','gender', 'branch']:\n",
    "    counter = Counter(data[qualitative])\n",
    "    df = pd.DataFrame.from_dict(counter, orient='index')\n",
    "    for quali_class in df.index:\n",
    "        idx = data[qualitative] == quali_class\n",
    "        # new binary column\n",
    "        data['{}_is_{}'.format(qualitative,quali_class)] = idx.astype(int)\n",
    "#data overview\n",
    "data.head()"
   ]
  },
  {
   "cell_type": "code",
   "execution_count": 8,
   "id": "1e9814f8",
   "metadata": {},
   "outputs": [],
   "source": [
    "# here we keep only binary and quantitative data\n",
    "binary_quanti_data = data[['converted','age','related_customers','family_size','initial_fee_level','has_credit_account','customer_segment_is_13','customer_segment_is_11','gender_is_male','branch_is_Helsinki','branch_is_Tampere', 'customer_segment_is_12','gender_is_female','branch_is_Turku']]"
   ]
  },
  {
   "cell_type": "markdown",
   "id": "8ab25533",
   "metadata": {},
   "source": [
    "### Correlation matrix"
   ]
  },
  {
   "cell_type": "code",
   "execution_count": 9,
   "id": "e52418b0",
   "metadata": {},
   "outputs": [
    {
     "name": "stdout",
     "output_type": "stream",
     "text": [
      "The correlations between converted and the other factors:\n",
      " converted                 1.000000\n",
      "age                      -0.082446\n",
      "related_customers        -0.015523\n",
      "family_size               0.095265\n",
      "initial_fee_level         0.266100\n",
      "has_credit_account        0.320733\n",
      "customer_segment_is_13   -0.335364\n",
      "customer_segment_is_11    0.297908\n",
      "gender_is_male           -0.536762\n",
      "branch_is_Helsinki       -0.159015\n",
      "branch_is_Tampere         0.195673\n",
      "customer_segment_is_12    0.086891\n",
      "gender_is_female          0.536762\n",
      "branch_is_Turku          -0.048966\n",
      "Name: converted, dtype: float64\n"
     ]
    }
   ],
   "source": [
    "corr_matrix = binary_quanti_data.corr()\n",
    "\n",
    "print('The correlations between converted and the other factors:\\n', corr_matrix['converted'])"
   ]
  },
  {
   "cell_type": "markdown",
   "id": "9fae20dd",
   "metadata": {},
   "source": [
    "### Analysis and conclusions\n",
    "\n",
    "The correlation matrix shows that *converted* is correlated with *initial_fee_level*, *has_credit_account*, *customer_segment_is_11*, *branch_is_Tampere *, *gender_is_female*, and inversly correlated with *customer_segment_is_13*, *gender_is_male* and *branch_is_Helsinki*.\n",
    "\n",
    "The gender is the most important factor with a correlation of 0.54 for male and the opposit for female. In second position, the initial_fee_level, has_credit_account, customer_segment_is_13, customer_segment_is_11 are they are similarly important (around 0.3). The Tampere and helsinki branch factor are a bit less important (0.2 and -0.16) but they still are correlated with the conversion. \n",
    "\n",
    "This confirms the hypothesis we made before. But also it gives us more information because it shows that the family size is very lightly correlated (0.095) and branch is Turko is almost not correlated with *converted*. "
   ]
  },
  {
   "cell_type": "markdown",
   "id": "40d9ba06",
   "metadata": {},
   "source": [
    "## Logistic regression\n",
    "\n",
    "We can guess that the conversion can not be explicated only looking at the factors independently, it is certainly a combination of those factors. That is what we will study in this last part.\n",
    "\n",
    "We will build a logistic regression model and fit it on the selected important factors. The objectif is to predict if a customer is converted or not with a combination of the important factors. \n",
    "\n",
    "We will split the data into a training and a test dataset, the objective is first to fit the model on the training dataset and then to evaluate it with the testing dataset."
   ]
  },
  {
   "cell_type": "markdown",
   "id": "6eae0f9c",
   "metadata": {},
   "source": [
    "### Model definition and training"
   ]
  },
  {
   "cell_type": "code",
   "execution_count": 10,
   "id": "f17405c4",
   "metadata": {},
   "outputs": [
    {
     "name": "stderr",
     "output_type": "stream",
     "text": [
      "C:\\Users\\Etudiant\\anaconda3\\envs\\ML\\lib\\site-packages\\sklearn\\utils\\validation.py:72: DataConversionWarning: A column-vector y was passed when a 1d array was expected. Please change the shape of y to (n_samples, ), for example using ravel().\n",
      "  return f(**kwargs)\n"
     ]
    },
    {
     "data": {
      "text/plain": [
       "LogisticRegression(penalty='none', solver='newton-cg')"
      ]
     },
     "execution_count": 10,
     "metadata": {},
     "output_type": "execute_result"
    }
   ],
   "source": [
    "#model definition\n",
    "model = LogisticRegression(penalty='none',solver='newton-cg')\n",
    "\n",
    "#label and data definition\n",
    "y = binary_quanti_data[['converted']]\n",
    "x = binary_quanti_data[['age','initial_fee_level','has_credit_account','customer_segment_is_13','customer_segment_is_11','gender_is_male','branch_is_Helsinki','branch_is_Tampere', 'customer_segment_is_12','gender_is_female','branch_is_Turku']] #'related_customers','family_size',\n",
    "\n",
    "#x[['initial_fee_level']] = normalize(x[['initial_fee_level']], axis=1)\n",
    "\n",
    "#data splitting\n",
    "x_train, x_test, y_train, y_test = train_test_split(x, y, test_size=0.25, random_state=0)\n",
    "\n",
    "model.fit(x_train, y_train)"
   ]
  },
  {
   "cell_type": "markdown",
   "id": "17e26891",
   "metadata": {},
   "source": [
    "Here we can see the different weights attributed to each factor. "
   ]
  },
  {
   "cell_type": "code",
   "execution_count": 11,
   "id": "4f4988ad",
   "metadata": {},
   "outputs": [
    {
     "data": {
      "text/html": [
       "<div>\n",
       "<style scoped>\n",
       "    .dataframe tbody tr th:only-of-type {\n",
       "        vertical-align: middle;\n",
       "    }\n",
       "\n",
       "    .dataframe tbody tr th {\n",
       "        vertical-align: top;\n",
       "    }\n",
       "\n",
       "    .dataframe thead th {\n",
       "        text-align: right;\n",
       "    }\n",
       "</style>\n",
       "<table border=\"1\" class=\"dataframe\">\n",
       "  <thead>\n",
       "    <tr style=\"text-align: right;\">\n",
       "      <th></th>\n",
       "      <th>coef</th>\n",
       "    </tr>\n",
       "  </thead>\n",
       "  <tbody>\n",
       "    <tr>\n",
       "      <th>constante</th>\n",
       "      <td>0.453524</td>\n",
       "    </tr>\n",
       "    <tr>\n",
       "      <th>age</th>\n",
       "      <td>-0.035880</td>\n",
       "    </tr>\n",
       "    <tr>\n",
       "      <th>initial_fee_level</th>\n",
       "      <td>0.000207</td>\n",
       "    </tr>\n",
       "    <tr>\n",
       "      <th>has_credit_account</th>\n",
       "      <td>0.635864</td>\n",
       "    </tr>\n",
       "    <tr>\n",
       "      <th>customer_segment_is_13</th>\n",
       "      <td>-0.801610</td>\n",
       "    </tr>\n",
       "    <tr>\n",
       "      <th>customer_segment_is_11</th>\n",
       "      <td>0.896990</td>\n",
       "    </tr>\n",
       "    <tr>\n",
       "      <th>gender_is_male</th>\n",
       "      <td>-1.035598</td>\n",
       "    </tr>\n",
       "    <tr>\n",
       "      <th>branch_is_Helsinki</th>\n",
       "      <td>-0.024490</td>\n",
       "    </tr>\n",
       "    <tr>\n",
       "      <th>branch_is_Tampere</th>\n",
       "      <td>0.688142</td>\n",
       "    </tr>\n",
       "    <tr>\n",
       "      <th>customer_segment_is_12</th>\n",
       "      <td>0.358144</td>\n",
       "    </tr>\n",
       "    <tr>\n",
       "      <th>gender_is_female</th>\n",
       "      <td>1.489122</td>\n",
       "    </tr>\n",
       "    <tr>\n",
       "      <th>branch_is_Turku</th>\n",
       "      <td>-0.210127</td>\n",
       "    </tr>\n",
       "  </tbody>\n",
       "</table>\n",
       "</div>"
      ],
      "text/plain": [
       "                            coef\n",
       "constante               0.453524\n",
       "age                    -0.035880\n",
       "initial_fee_level       0.000207\n",
       "has_credit_account      0.635864\n",
       "customer_segment_is_13 -0.801610\n",
       "customer_segment_is_11  0.896990\n",
       "gender_is_male         -1.035598\n",
       "branch_is_Helsinki     -0.024490\n",
       "branch_is_Tampere       0.688142\n",
       "customer_segment_is_12  0.358144\n",
       "gender_is_female        1.489122\n",
       "branch_is_Turku        -0.210127"
      ]
     },
     "execution_count": 11,
     "metadata": {},
     "output_type": "execute_result"
    }
   ],
   "source": [
    "pd.DataFrame(np.concatenate([model.intercept_.reshape(-1,1),\n",
    "                             model.coef_],axis=1),\n",
    "             index = [\"coef\"],\n",
    "             columns = [\"constante\"]+list(x.columns)).T"
   ]
  },
  {
   "cell_type": "markdown",
   "id": "f2730c08",
   "metadata": {},
   "source": [
    "### Prediction and evaluation"
   ]
  },
  {
   "cell_type": "code",
   "execution_count": 12,
   "id": "e5b46473",
   "metadata": {},
   "outputs": [
    {
     "name": "stdout",
     "output_type": "stream",
     "text": [
      "The model has an accuracy of 81%\n",
      "\n",
      "Confusion matrix:\n"
     ]
    },
    {
     "data": {
      "text/plain": [
       "<sklearn.metrics._plot.confusion_matrix.ConfusionMatrixDisplay at 0x255f3390cd0>"
      ]
     },
     "execution_count": 12,
     "metadata": {},
     "output_type": "execute_result"
    },
    {
     "data": {
      "image/png": "[encoded data removed]",
      "text/plain": [
       "<Figure size 432x288 with 2 Axes>"
      ]
     },
     "metadata": {
      "needs_background": "light"
     },
     "output_type": "display_data"
    }
   ],
   "source": [
    "#Predict\n",
    "y_predict = model.predict(x_test)\n",
    "\n",
    "#Evaluate\n",
    "score = model.score(x_test, y_test)\n",
    "print('The model has an accuracy of {}%'.format(round(score*100)))\n",
    "cm = confusion_matrix(y_test, y_predict)\n",
    "disp = ConfusionMatrixDisplay(cm) #, ['not converted', 'converted'])\n",
    "print('\\nConfusion matrix:')\n",
    "disp.plot()\n"
   ]
  },
  {
   "cell_type": "markdown",
   "id": "1d5d1b48",
   "metadata": {},
   "source": [
    "## Conclusion\n",
    "\n",
    "As a conclusion, we can say that the important factor for the prediction are the initial fee level, if the customer has a credit account or not, its segment, gender and branch. \n",
    "This information can be combined to predict if a client has converted or not. "
   ]
  }
 ],
 "metadata": {
  "kernelspec": {
   "display_name": "Python 3 (ipykernel)",
   "language": "python",
   "name": "python3"
  },
  "language_info": {
   "codemirror_mode": {
    "name": "ipython",
    "version": 3
   },
   "file_extension": ".py",
   "mimetype": "text/x-python",
   "name": "python",
   "nbconvert_exporter": "python",
   "pygments_lexer": "ipython3",
   "version": "3.8.11"
  }
 },
 "nbformat": 4,
 "nbformat_minor": 5
}
